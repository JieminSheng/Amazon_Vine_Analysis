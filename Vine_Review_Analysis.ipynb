{
 "cells": [
  {
   "cell_type": "code",
   "execution_count": null,
   "metadata": {
    "colab": {
     "base_uri": "https://localhost:8080/"
    },
    "id": "V58rxea0HqSa",
    "outputId": "f07c0baf-61fb-454f-aa9b-ed0cc4bdb477"
   },
   "outputs": [],
   "source": [
    "import os\n",
    "# Find the latest version of spark 3.0  from http://www.apache.org/dist/spark/ and enter as the spark version\n",
    "# For example:\n",
    "# spark_version = 'spark-3.0.3'\n",
    "spark_version = 'spark-3.3.1'\n",
    "os.environ['SPARK_VERSION']=spark_version# Install Spark and Java\n",
    "!apt-get update\n",
    "!apt-get install openjdk-11-jdk-headless -qq > /dev/null\n",
    "!wget -q http://www.apache.org/dist/spark/{spark_version}/{spark_version}-bin-hadoop3.tgz\n",
    "!tar xf $SPARK_VERSION-bin-hadoop3.tgz\n",
    "!pip install findspark # Set Environment Variables\n",
    "os.environ[\"JAVA_HOME\"] = \"/usr/lib/jvm/java-11-openjdk-amd64\"\n",
    "os.environ[\"SPARK_HOME\"] = f\"/content/{spark_version}-bin-hadoop3\"# Start a SparkSession\n",
    "\n",
    "# Start a SparkSession\n",
    "import findspark\n",
    "findspark.init()"
   ]
  },
  {
   "cell_type": "code",
   "execution_count": null,
   "metadata": {
    "id": "MMqDAjVS0KN9"
   },
   "outputs": [],
   "source": [
    "from pyspark.sql import SparkSession\n",
    "spark = SparkSession.builder.appName(\"M16-Amazon-Challenge\").config(\"spark.driver.extraClassPath\",\"/content/postgresql-42.2.16.jar\").getOrCreate()"
   ]
  },
  {
   "cell_type": "code",
   "execution_count": null,
   "metadata": {
    "id": "CtCmBhQJY-9Z"
   },
   "outputs": [],
   "source": [
    "from pyspark import SparkFiles\n",
    "url = \"https://s3.amazonaws.com/amazon-reviews-pds/tsv/amazon_reviews_us_Automotive_v1_00.tsv.gz\"\n",
    "spark.sparkContext.addFile(url)\n",
    "# Read in the Review dataset as a DataFrame\n",
    "df = spark.read.option(\"encoding\", \"UTF-8\").csv(SparkFiles.get(\"\"), sep=\"\\t\", header=True, inferSchema=True)\n",
    "df.show()"
   ]
  },
  {
   "cell_type": "code",
   "execution_count": null,
   "metadata": {
    "id": "lzMmkdKmY--D"
   },
   "outputs": [],
   "source": [
    "# Create the vine_table DataFrame\n",
    "vine_df = df.select(['review_id', 'star_rating', 'helpful_votes', 'total_votes', 'vine', 'verified_purchase'])\n",
    "vine_df.show()"
   ]
  },
  {
   "cell_type": "code",
   "execution_count": null,
   "metadata": {},
   "outputs": [],
   "source": [
    "# Filter where the total_votes count is equal to or greater than 20,  create a new DataFrame\n",
    "total_votes_greaterthan20 = vine_df.filter(\"total_votes>=20\")\n",
    "total_votes_greaterthan20.show()"
   ]
  },
  {
   "cell_type": "code",
   "execution_count": null,
   "metadata": {},
   "outputs": [],
   "source": [
    "# Filter and create a new DataFrame to retrieve all the rows where the number of helpful_votes divided by total_votes is equal to or greater than 50%\n",
    "helpful_divided_by_total = total_votes_greaterthan20.filter(total_votes_greaterthan20[\"helpful_votes\"]/total_votes_greaterthan20[\"total_votes\"]>=0.5)\n",
    "helpful_divided_by_total.show()"
   ]
  },
  {
   "cell_type": "code",
   "execution_count": null,
   "metadata": {},
   "outputs": [],
   "source": [
    "# Filter the and create a new DataFrame that retrieves all the rows where a review was written as part of the Vine program (paid\n",
    "vine_paid = helpful_divided_by_total.filter(helpful_divided_by_total[\"vine\"] == \"Y\") \n",
    "vine_paid.show()"
   ]
  },
  {
   "cell_type": "code",
   "execution_count": null,
   "metadata": {},
   "outputs": [],
   "source": [
    "# Filter and create a new DataFrame that retrieves all the rows where the review was not part of the Vine program (unpaid)\n",
    "vine_unpaid = helpful_divided_by_total.filter(helpful_divided_by_total[\"vine\"] == \"N\") \n",
    "vine_unpaid.show()"
   ]
  },
  {
   "cell_type": "code",
   "execution_count": null,
   "metadata": {},
   "outputs": [],
   "source": [
    "# total number of reviews\n",
    "total_number_reviews = helpful_divided_by_total.count()\n",
    "total_number_reviews"
   ]
  },
  {
   "cell_type": "code",
   "execution_count": null,
   "metadata": {},
   "outputs": [],
   "source": [
    "# number of five star reviews\n",
    "fivestar_reviews = helpful_divided_by_total.filter(helpful_divided_by_total[\"star_rating\"] == 5) \n",
    "number_fivestar_reviews = fivestar_reviews.count()\n",
    "number_fivestar_reviews"
   ]
  },
  {
   "cell_type": "code",
   "execution_count": null,
   "metadata": {},
   "outputs": [],
   "source": [
    "# number of paid reviews\n",
    "paid_reviews = vine_paid.count()\n",
    "paid_reviews"
   ]
  },
  {
   "cell_type": "code",
   "execution_count": null,
   "metadata": {},
   "outputs": [],
   "source": [
    "# number of unpaid reviews\n",
    "unpaid_reviews = vine_unpaid.count()\n",
    "unpaid_reviews"
   ]
  },
  {
   "cell_type": "code",
   "execution_count": null,
   "metadata": {},
   "outputs": [],
   "source": [
    "# number of paid five star reviews\n",
    "fivestar_reviews_paid = vine_paid.filter(vine_paid[\"star_rating\"] == 5)\n",
    "number_fivestar_reviews_paid = fivestar_reviews_paid.count()\n",
    "number_fivestar_reviews_paid"
   ]
  },
  {
   "cell_type": "code",
   "execution_count": null,
   "metadata": {},
   "outputs": [],
   "source": [
    "# number of unpaid five star reviews\n",
    "fivestar_reviews_unpaid = vine_unpaid.filter(vine_unpaid[\"star_rating\"] == 5)\n",
    "number_fivestar_reviews_unpaid = fivestar_reviews_unpaid.count()\n",
    "number_fivestar_reviews_unpaid"
   ]
  },
  {
   "cell_type": "code",
   "execution_count": null,
   "metadata": {},
   "outputs": [],
   "source": [
    "# percentage of paid five star reviews\n",
    "fivestars_as_percent_paid = (number_fivestar_reviews_paid/paid_reviews)*100\n",
    "fivestars_as_percent_paid "
   ]
  },
  {
   "cell_type": "code",
   "execution_count": null,
   "metadata": {},
   "outputs": [],
   "source": [
    "# percentage of unpaid five star reviews\n",
    "fivestars_as_percent_unpaid  = (number_fivestar_reviews_unpaid/unpaid_reviews)*100\n",
    "fivestars_as_percent_unpaid "
   ]
  }
 ],
 "metadata": {
  "colab": {
   "name": "Amazon_Reviews_ETL_starter_code.ipynb",
   "provenance": []
  },
  "kernelspec": {
   "display_name": "Python 3",
   "language": "python",
   "name": "python3"
  },
  "language_info": {
   "codemirror_mode": {
    "name": "ipython",
    "version": 3
   },
   "file_extension": ".py",
   "mimetype": "text/x-python",
   "name": "python",
   "nbconvert_exporter": "python",
   "pygments_lexer": "ipython3",
   "version": "3.7.13"
  },
  "nteract": {
   "version": "0.12.3"
  }
 },
 "nbformat": 4,
 "nbformat_minor": 1
}
